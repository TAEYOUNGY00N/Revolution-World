{
  "nbformat": 4,
  "nbformat_minor": 0,
  "metadata": {
    "colab": {
      "name": "Untitled0.ipynb",
      "provenance": [],
      "collapsed_sections": [],
      "authorship_tag": "ABX9TyO0Tn3ruczfJuM5lPDHSZJw",
      "include_colab_link": true
    },
    "kernelspec": {
      "name": "python3",
      "display_name": "Python 3"
    },
    "language_info": {
      "name": "python"
    }
  },
  "cells": [
    {
      "cell_type": "markdown",
      "metadata": {
        "id": "view-in-github",
        "colab_type": "text"
      },
      "source": [
        "<a href=\"https://colab.research.google.com/github/TAEYOUNGY00N/Revolution-World/blob/main/test.ipynb\" target=\"_parent\"><img src=\"https://colab.research.google.com/assets/colab-badge.svg\" alt=\"Open In Colab\"/></a>"
      ]
    },
    {
      "cell_type": "code",
      "execution_count": null,
      "metadata": {
        "id": "Z6QQ1n3MTO2I"
      },
      "outputs": [],
      "source": [
        "import pandas as pd\n",
        "import matplotlib.pyplot as plt\n",
        "import seaborn as sns"
      ]
    },
    {
      "cell_type": "code",
      "source": [
        "test = pd.read_CSV('/content/smaple_data/california_housing_test.csv')\n",
        "train = pd.read_CSV('/content/smaple_data/california_housing_train.csv')\n",
        "train.head()"
      ],
      "metadata": {
        "id": "4ftsKOzZHfTl"
      },
      "execution_count": null,
      "outputs": []
    },
    {
      "cell_type": "code",
      "source": [
        "test.head()\n",
        "train.describe()\n",
        "train.hist(figsize=(15,13), grid=False, bins=50)\n",
        "correlation = train.corr()\n",
        "plt.figure(figsize=(10,10))\n",
        "sns.heatmap(correlation , annot=True)\n",
        "plt.show()"
      ],
      "metadata": {
        "id": "zStpxgk_HUuB"
      },
      "execution_count": null,
      "outputs": []
    }
  ]
}