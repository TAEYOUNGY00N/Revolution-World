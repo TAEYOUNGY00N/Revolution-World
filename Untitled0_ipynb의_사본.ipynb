{
  "nbformat": 4,
  "nbformat_minor": 0,
  "metadata": {
    "colab": {
      "name": "Untitled0.ipynb의 사본",
      "provenance": [],
      "collapsed_sections": [],
      "authorship_tag": "ABX9TyNtLN2Pv5x5/aKz3Ccxu+jb",
      "include_colab_link": true
    },
    "kernelspec": {
      "name": "python3",
      "display_name": "Python 3"
    },
    "language_info": {
      "name": "python"
    }
  },
  "cells": [
    {
      "cell_type": "markdown",
      "metadata": {
        "id": "view-in-github",
        "colab_type": "text"
      },
      "source": [
        "<a href=\"https://colab.research.google.com/github/TAEYOUNGY00N/Revolution-World/blob/main/Untitled0_ipynb%EC%9D%98_%EC%82%AC%EB%B3%B8.ipynb\" target=\"_parent\"><img src=\"https://colab.research.google.com/assets/colab-badge.svg\" alt=\"Open In Colab\"/></a>"
      ]
    },
    {
      "cell_type": "code",
      "execution_count": null,
      "metadata": {
        "id": "Z6QQ1n3MTO2I"
      },
      "outputs": [],
      "source": [
        "import pandas as pd\n",
        "import matplotlib.pyplot as plt\n",
        "import seaborn as sns"
      ]
    },
    {
      "cell_type": "code",
      "source": [
        "test = pd.read_CSV('/content/sample_data/california_housing_test.csv')\n",
        "train = pd.read_CSV('/content/sample_data/california_housing_train.csv')\n",
        "train.head()"
      ],
      "metadata": {
        "id": "4ftsKOzZHfTl"
      },
      "execution_count": null,
      "outputs": []
    },
    {
      "cell_type": "code",
      "source": [
        "test.head()\n",
        "train.describe()\n",
        "train.hist(figsize=(15,13), grid=False, bins=50)\n",
        "correlation = train.corr()\n",
        "plt.figure(figsize=(10,10))\n",
        "sns.heatmap(correlation , annot=True)\n",
        "plt.show()"
      ],
      "metadata": {
        "id": "zStpxgk_HUuB"
      },
      "execution_count": null,
      "outputs": []
    }
  ]
}